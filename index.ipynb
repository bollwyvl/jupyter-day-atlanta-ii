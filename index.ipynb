{
 "cells": [
  {
   "cell_type": "markdown",
   "metadata": {},
   "source": [
    "# Jupyter Upstream\n",
    "The SVG (and source GraphViz file) accompanying this Notebook is a wholly inaccurate, biased, and unsubstantiated interpretation of my research and recollections of the history of the Jupyter ecosystem, and some of its predecessors. It does not reflect the opinions of any members of that community other than myself.\n",
    "\n",
    "For a more accurate account, check out the post _[The IPython notebook: a historical retrospective](http://blog.fperez.org/2012/01/ipython-notebook-historical.html)_ by Fernando Perez (oiginal author of IPython).\n",
    "\n",
    "The talk and first version of this hack (based on [`PhE/jupyterlab_graphviz`](https://github.com/PhE/jupyterlab_graphviz)) at the [The Atlanta Jupyter User Group THREE](https://www.meetup.com/Atlanta-Jupyter-User-Group/events/246623197/).\n",
    "\n",
    "Some of the content and cosmetic changes were made for a subsequent talk, given at [JupyterDay Atlanta II](https://atl-jugheads.github.io/jupyter-day-atlanta-ii/) (soon we're going to run out of numbering schemes)."
   ]
  },
  {
   "cell_type": "markdown",
   "metadata": {},
   "source": [
    "![](ecosystem.svg)"
   ]
  },
  {
   "cell_type": "markdown",
   "metadata": {},
   "source": [
    "## Great, an unreadable picture, so?\n",
    "Assuming you're viewing this in JupyterLab, if you _Open with... ► dot_ that [GraphViz file](./ecosystem.dot) (or just click that link) you should see the same thing as the SVG. However, it supports click-to-pan, scroll/double-click-to-zoom.\n",
    "\n",
    "When you move your cursor over the graph, you'll see two sliders at the top. Move the rightmost one back and forth, and parts of the graph will hide/appear, roughly based on time (until roughly now). Move the first one... and you'll see the start date move, but that can get really crazy, and I haven't figured out how to use it. \n",
    "\n",
    "By watching the graph and titles evolve, and exploring specific regions, I hope you can come away with more understanding than a pure text narrative or a static image... and since you can edit the graph yourself (`Open With ► Editor_`) with a live preview, perhaps you can discover or tell something yourself with the [GraphViz language](http://www.graphviz.org/doc/info/index.html)."
   ]
  },
  {
   "cell_type": "markdown",
   "metadata": {},
   "source": [
    "## What is this?\n",
    "This is a hack based on [jupyterlab_graphviz](https://github.com/PhE/jupyterlab_graphviz), which includes the pan-zoom features, but not the crazy line hiding and animations.\n",
    "\n",
    "It's then built offline with an (undocumented) part of [jyve](https://github.com/deathbeds/jyve), which has a [more full example](https://deathbeds.github.io/jyve/lab/) explaining what is going on."
   ]
  },
  {
   "cell_type": "markdown",
   "metadata": {},
   "source": [
    "## Presenting this/your content\n",
    "Open the `.dot` file and `Toggle Single-Document Mode` and `Toggle Presentation Mode`. \n",
    "\n",
    "Move the end slider all the way to the left until just the title is visible. Then, keeping focus on the slider, move the cursor away from the drawing. Pressing the left and right keys, gradually reveal the image without revealing that it is in JupyterLab.\n",
    "\n",
    "For added effect, here is some on-the-fly theming of JupyterLab to hide more stuf (but only when in Presentation Mode) as long as this notebok is open."
   ]
  },
  {
   "cell_type": "code",
   "execution_count": 14,
   "metadata": {},
   "outputs": [
    {
     "data": {
      "text/html": [
       "<style>\n",
       ".jp-mod-presentationMode {\n",
       "    background-color: var(--jp-layout-color0);\n",
       "}\n",
       ".jp-mod-presentationMode .p-DockPanel-widget {\n",
       "    border: none;\n",
       "}\n",
       ".jp-mod-presentationMode .p-TabBar,\n",
       ".jp-mod-presentationMode .jp-Toolbar,\n",
       ".jp-mod-presentationMode #jp-top-panel {\n",
       "    opacity: 0 !important;\n",
       "    transition: opacity 0.2s;\n",
       "}\n",
       ".jp-mod-presentationMode .p-TabBar:hover,\n",
       ".jp-mod-presentationMode .jp-Toolbar:hover,\n",
       ".jp-mod-presentationMode #jp-top-panel:hover  {\n",
       "    opacity: 1.0 !important;\n",
       "    transition: opacity 0.2s;\n",
       "}\n",
       "</style>"
      ],
      "text/plain": [
       "<IPython.core.display.HTML object>"
      ]
     },
     "metadata": {},
     "output_type": "display_data"
    }
   ],
   "source": [
    "%%html\n",
    "<style>\n",
    ".jp-mod-presentationMode {\n",
    "    background-color: var(--jp-layout-color0);\n",
    "}\n",
    ".jp-mod-presentationMode .p-DockPanel-widget {\n",
    "    border: none;\n",
    "}\n",
    ".jp-mod-presentationMode .p-TabBar,\n",
    ".jp-mod-presentationMode .jp-Toolbar,\n",
    ".jp-mod-presentationMode #jp-top-panel {\n",
    "    opacity: 0 !important;\n",
    "    transition: opacity 0.2s;\n",
    "}\n",
    ".jp-mod-presentationMode .p-TabBar:hover,\n",
    ".jp-mod-presentationMode .jp-Toolbar:hover,\n",
    ".jp-mod-presentationMode #jp-top-panel:hover  {\n",
    "    opacity: 1.0 !important;\n",
    "    transition: opacity 0.2s;\n",
    "}\n",
    "</style>"
   ]
  }
 ],
 "metadata": {
  "kernelspec": {
   "display_name": "Python 3",
   "language": "python",
   "name": "python3"
  },
  "language_info": {
   "codemirror_mode": {
    "name": "ipython",
    "version": 3
   },
   "file_extension": ".py",
   "mimetype": "text/x-python",
   "name": "python",
   "nbconvert_exporter": "python",
   "pygments_lexer": "ipython3",
   "version": "3.6.5"
  }
 },
 "nbformat": 4,
 "nbformat_minor": 2
}
